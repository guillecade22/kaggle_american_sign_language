{
 "cells": [
  {
   "cell_type": "code",
   "execution_count": 26,
   "id": "fbafbf7a-c8b4-425a-837a-2ad8bc5b8ed9",
   "metadata": {},
   "outputs": [
    {
     "name": "stdout",
     "output_type": "stream",
     "text": [
      "1/1 [==============================] - 0s 83ms/step\n"
     ]
    }
   ],
   "source": [
    "import cv2\n",
    "import tensorflow as tf\n",
    "import numpy as np\n",
    "\n",
    "# Load TensorFlow model\n",
    "model = tf.keras.models.load_model('models\\m1')\n",
    "\n",
    "labels = ['0', '1', '2', '3', '4', '5', '6', '7', '8', '9',\n",
    "         'a', 'b', 'c', 'd', 'e', 'f', 'g', 'h', 'i', 'j', 'k', 'l', 'm', 'n', 'o', 'p', 'q', 'r', 's', 't', 'u', 'v', 'w', 'x', 'y', 'z']\n",
    "\n",
    "# Load an image from file\n",
    "image_path = ''  # Replace this with your image path\n",
    "frame = cv2.imread(image_path)\n",
    "\n",
    "# Resize the frame to match the model's input shape\n",
    "resized_frame = cv2.resize(frame, (256, 256))\n",
    "\n",
    "# Perform object classification on the resized frame\n",
    "# Modify this part according to your model's requirements for inference\n",
    "\n",
    "# Example inference (modify according to your model's requirements)\n",
    "# Ensure you preprocess the resized_frame appropriately\n",
    "prediction = model.predict(np.expand_dims(resized_frame, axis=0))\n",
    "\n",
    "# Get the predicted class and its probability\n",
    "predicted_class = np.argmax(prediction)\n",
    "confidence = prediction[0][predicted_class]\n",
    "\n",
    "# Overlay text showing the predicted class and its confidence on the frame\n",
    "text = f'Class: {labels[predicted_class]}, Confidence: {confidence:.2f}'\n",
    "cv2.putText(frame, text, (10, 30), cv2.FONT_HERSHEY_SIMPLEX, 1, (0, 255, 0), 2)\n",
    "\n",
    "# Display the frame with predicted class and confidence\n",
    "cv2.imshow('Object Detection', frame)\n",
    "cv2.waitKey(0)  # Wait indefinitely until any key is pressed\n",
    "\n",
    "# Close the window\n",
    "cv2.destroyAllWindows()\n"
   ]
  },
  {
   "cell_type": "code",
   "execution_count": 27,
   "id": "49313ab7-feee-424c-83d3-a5949f6eb0c6",
   "metadata": {
    "tags": []
   },
   "outputs": [
    {
     "name": "stdout",
     "output_type": "stream",
     "text": [
      "1/1 [==============================] - 0s 91ms/step\n",
      "1/1 [==============================] - 0s 30ms/step\n",
      "1/1 [==============================] - 0s 30ms/step\n",
      "1/1 [==============================] - 0s 30ms/step\n",
      "1/1 [==============================] - 0s 29ms/step\n",
      "1/1 [==============================] - 0s 28ms/step\n",
      "1/1 [==============================] - 0s 32ms/step\n",
      "1/1 [==============================] - 0s 28ms/step\n",
      "1/1 [==============================] - 0s 28ms/step\n",
      "1/1 [==============================] - 0s 29ms/step\n",
      "1/1 [==============================] - 0s 28ms/step\n",
      "1/1 [==============================] - 0s 29ms/step\n",
      "1/1 [==============================] - 0s 28ms/step\n"
     ]
    }
   ],
   "source": [
    "import cv2\n",
    "import tensorflow as tf\n",
    "import numpy as np\n",
    "\n",
    "# Load TensorFlow model\n",
    "model = tf.keras.models.load_model('models\\m1')\n",
    "\n",
    "labels = ['0', '1', '2', '3', '4', '5', '6', '7', '8', '9',\n",
    "         'a', 'b', 'c', 'd', 'e', 'f', 'g', 'h', 'i', 'j', 'k', 'l', 'm', 'n', 'o', 'p', 'q', 'r', 's', 't', 'u', 'v', 'w', 'x', 'y', 'z']\n",
    "\n",
    "# Access the webcam\n",
    "cap = cv2.VideoCapture(0)\n",
    "\n",
    "while True:\n",
    "    ret, frame = cap.read()\n",
    "\n",
    "    # Resize the frame to match the model's input shape\n",
    "    resized_frame = cv2.resize(frame, (256, 256))\n",
    "\n",
    "    # Perform object classification on the resized frame\n",
    "    # Modify this part according to your model's requirements for inference\n",
    "\n",
    "    # Example inference (modify according to your model's requirements)\n",
    "    # Ensure you preprocess the resized_frame appropriately\n",
    "    prediction = model.predict(np.expand_dims(resized_frame, axis=0))\n",
    "    \n",
    "    # Get the predicted class and its probability\n",
    "    predicted_class = np.argmax(prediction)\n",
    "    confidence = prediction[0][predicted_class]\n",
    "\n",
    "    # Overlay text showing the predicted class and its confidence on the frame\n",
    "    text = f'Class: {labels[predicted_class]}, Confidence: {confidence:.2f}'\n",
    "    cv2.putText(frame, text, (10, 30), cv2.FONT_HERSHEY_SIMPLEX, 1, (0, 255, 0), 2)\n",
    "\n",
    "    # Display the frame with predicted class and confidence\n",
    "    cv2.imshow('Object Detection', frame)\n",
    "\n",
    "    if cv2.waitKey(5) & 0xFF == ord('q'):\n",
    "        break\n",
    "\n",
    "# Release the capture\n",
    "cap.release()\n",
    "cv2.destroyAllWindows()"
   ]
  },
  {
   "cell_type": "code",
   "execution_count": null,
   "id": "923d601e-47a6-49af-9c98-f9a11cd9e76a",
   "metadata": {},
   "outputs": [],
   "source": []
  }
 ],
 "metadata": {
  "kernelspec": {
   "display_name": "Python 3 (ipykernel)",
   "language": "python",
   "name": "python3"
  },
  "language_info": {
   "codemirror_mode": {
    "name": "ipython",
    "version": 3
   },
   "file_extension": ".py",
   "mimetype": "text/x-python",
   "name": "python",
   "nbconvert_exporter": "python",
   "pygments_lexer": "ipython3",
   "version": "3.9.13"
  }
 },
 "nbformat": 4,
 "nbformat_minor": 5
}
